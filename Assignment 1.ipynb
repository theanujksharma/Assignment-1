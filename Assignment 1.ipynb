{
 "cells": [
  {
   "cell_type": "code",
   "execution_count": 1,
   "id": "a0bf7966-70c1-4ab5-9869-083a68468117",
   "metadata": {},
   "outputs": [],
   "source": [
    "#1.for loop and while loop\n"
   ]
  },
  {
   "cell_type": "code",
   "execution_count": 1,
   "id": "1d343b93-dbd4-4a51-a750-bdae4769bff0",
   "metadata": {},
   "outputs": [],
   "source": [
    "\"\"\"for loop-for loops are used when you have a block of code which you want to repeat \n",
    "a fixed number of times. The for-loop is always used in combination with an iterable \n",
    "object, like a list or a range. The Python for statement iterates over the members \n",
    "of a sequence in order, executing the block each time. Contrast the for statement \n",
    "with the ''while'' loop, used when a condition needs to be checked each iteration or \n",
    "to repeat a block of code forever.\"\"\""
   ]
  },
  {
   "cell_type": "code",
   "execution_count": 2,
   "id": "1e956fbb-66e2-43f7-ac09-9dda4fa97920",
   "metadata": {},
   "outputs": [
    {
     "name": "stdout",
     "output_type": "stream",
     "text": [
      "[2, 3, 4, 5, 6]\n"
     ]
    }
   ],
   "source": [
    "#example of for loop adding 1 to all elements in list and printing the new list\n",
    "l=[1,2,3,4,5]\n",
    "l1=[]\n",
    "for i in l:\n",
    "    l1.append(i+1)\n",
    "print(l1)"
   ]
  },
  {
   "cell_type": "code",
   "execution_count": null,
   "id": "8a7ece5f-f22a-4c9c-b3a5-cc1ee3c0d564",
   "metadata": {},
   "outputs": [],
   "source": [
    "#example of while loop printing of number if it is less than 5\n",
    "n=1\n",
    "while n<5:\n",
    "    print(n)\n",
    "    n=n+1\n",
    "    "
   ]
  },
  {
   "cell_type": "code",
   "execution_count": 2,
   "id": "e4eaed3e-f681-4084-83e5-2bc4789ab5e2",
   "metadata": {},
   "outputs": [
    {
     "name": "stdout",
     "output_type": "stream",
     "text": [
      "55\n"
     ]
    }
   ],
   "source": [
    "#2. summation of first ten number with for loop\n",
    "sum=0\n",
    "for i in range(1,11):\n",
    "    sum=sum+i\n",
    "print(sum)"
   ]
  },
  {
   "cell_type": "code",
   "execution_count": 3,
   "id": "41e79e34-6f08-42c8-92c0-0647a47abb77",
   "metadata": {},
   "outputs": [
    {
     "name": "stdout",
     "output_type": "stream",
     "text": [
      "55\n"
     ]
    }
   ],
   "source": [
    "#summation with while loop for first ten natural numbers\n",
    "sum=0\n",
    "counter=1\n",
    "while counter<=10:\n",
    "    sum=sum+counter\n",
    "    counter=counter+1\n",
    "print(sum)"
   ]
  },
  {
   "cell_type": "code",
   "execution_count": 5,
   "id": "21f4dad5-1a27-421b-b9e9-cbeebd6bfbdd",
   "metadata": {},
   "outputs": [
    {
     "name": "stdout",
     "output_type": "stream",
     "text": [
      "3628800\n"
     ]
    }
   ],
   "source": [
    "#product of first 10 natural numbers with for loop\n",
    "product=1\n",
    "for i in range(1,11):\n",
    "    product=product*i\n",
    "print(product)"
   ]
  },
  {
   "cell_type": "code",
   "execution_count": 6,
   "id": "b7f88f04-8c40-4a11-9d74-868f57dc4949",
   "metadata": {},
   "outputs": [
    {
     "name": "stdout",
     "output_type": "stream",
     "text": [
      "3628800\n"
     ]
    }
   ],
   "source": [
    "#product of first 10 natural numbers with while loop\n",
    "product=1\n",
    "counter=1\n",
    "while counter<=10:\n",
    "    product=product*counter\n",
    "    counter=counter+1\n",
    "print(product)"
   ]
  },
  {
   "cell_type": "code",
   "execution_count": 7,
   "id": "a6a4fc12-9d0e-484e-8c9f-aea2c8940816",
   "metadata": {},
   "outputs": [
    {
     "name": "stdin",
     "output_type": "stream",
     "text": [
      "Enter the units consumed: 310\n"
     ]
    },
    {
     "name": "stdout",
     "output_type": "stream",
     "text": [
      "2250.0\n"
     ]
    }
   ],
   "source": [
    "#3.Electricity bill calculator\n",
    "unit=int(input(\"Enter the units consumed:\"))\n",
    "if unit<=100:\n",
    "    bill=float(units*4.5)\n",
    "elif unit<=200:\n",
    "    bill=float(450+(unit-100)*6)\n",
    "elif unit<=300:\n",
    "    bill=float(450+600+(unit-200)*10)\n",
    "else:\n",
    "    bill=float(450+600+1000+(unit-300)*20)\n",
    "print(bill)"
   ]
  },
  {
   "cell_type": "code",
   "execution_count": 21,
   "id": "78f4c29e-0a45-48e8-990d-68f31dbbbe48",
   "metadata": {},
   "outputs": [
    {
     "name": "stdout",
     "output_type": "stream",
     "text": [
      "[1, 2, 3, 4, 5, 6, 7, 8, 9, 10, 11, 12, 13, 14, 15, 16, 17, 18, 19, 20, 21, 22, 23, 24, 25, 26, 27, 28, 29, 30, 31, 32, 33, 34, 35, 36, 37, 38, 39, 40, 41, 42, 43, 44, 45, 46, 47, 48, 49, 50, 51, 52, 53, 54, 55, 56, 57, 58, 59, 60, 61, 62, 63, 64, 65, 66, 67, 68, 69, 70, 71, 72, 73, 74, 75, 76, 77, 78, 79, 80, 81, 82, 83, 84, 85, 86, 87, 88, 89, 90, 91, 92, 93, 94, 95, 96, 97, 98, 99, 100]\n",
      "[2, 4, 5, 6, 8, 10, 12, 14, 15, 16, 18, 20, 22, 24, 25, 26, 28, 30, 32, 34, 35, 36, 38, 40, 42, 44, 45, 46, 48, 50, 52, 54, 55, 56, 58, 60, 62, 64, 65, 66, 68, 70, 72, 74, 75, 76, 78, 80, 82, 84, 85, 86, 88, 90, 92, 94, 95, 96, 98, 100]\n"
     ]
    }
   ],
   "source": [
    "#4.Question 4 using for loop\n",
    "l=[]#l will be list of number from 1 to 100\n",
    "for i in range(1,101):\n",
    "    l.append(i)\n",
    "print(l)\n",
    "l1=[]#l1 will be list of number from 1 to 100 whose cube is divisible by 4 or 5\n",
    "for i in range(1,101):\n",
    "    if (i*i*i)%4==0 or (i*i*i)%5==0:\n",
    "        l1.append(i)\n",
    "print(l1)"
   ]
  },
  {
   "cell_type": "code",
   "execution_count": 1,
   "id": "d0f37d6f-33e1-4659-a503-a5d24f5cbf69",
   "metadata": {},
   "outputs": [
    {
     "name": "stdout",
     "output_type": "stream",
     "text": [
      "[1, 2, 3, 4, 5, 6, 7, 8, 9, 10, 11, 12, 13, 14, 15, 16, 17, 18, 19, 20, 21, 22, 23, 24, 25, 26, 27, 28, 29, 30, 31, 32, 33, 34, 35, 36, 37, 38, 39, 40, 41, 42, 43, 44, 45, 46, 47, 48, 49, 50, 51, 52, 53, 54, 55, 56, 57, 58, 59, 60, 61, 62, 63, 64, 65, 66, 67, 68, 69, 70, 71, 72, 73, 74, 75, 76, 77, 78, 79, 80, 81, 82, 83, 84, 85, 86, 87, 88, 89, 90, 91, 92, 93, 94, 95, 96, 97, 98, 99, 100]\n",
      "[2, 4, 5, 6, 8, 10, 12, 14, 15, 16, 18, 20, 22, 24, 25, 26, 28, 30, 32, 34, 35, 36, 38, 40, 42, 44, 45, 46, 48, 50, 52, 54, 55, 56, 58, 60, 62, 64, 65, 66, 68, 70, 72, 74, 75, 76, 78, 80, 82, 84, 85, 86, 88, 90, 92, 94, 95, 96, 98, 100]\n"
     ]
    }
   ],
   "source": [
    "#Question 4 using while loop\n",
    "l=[]\n",
    "n=1\n",
    "while n<=100:\n",
    "    l.append(n)\n",
    "    n=n+1\n",
    "print(l)\n",
    "l1=[]\n",
    "n=1\n",
    "while n<=100:\n",
    "    if (n*n*n)%4==0 or (n*n*n)%5==0:\n",
    "        l1.append(n)\n",
    "    n=n+1\n",
    "print(l1)\n"
   ]
  },
  {
   "cell_type": "code",
   "execution_count": 4,
   "id": "6d434e32-19d6-47a9-8fd7-c775c6ab9b3d",
   "metadata": {},
   "outputs": [
    {
     "ename": "SyntaxError",
     "evalue": "invalid syntax (3457652787.py, line 4)",
     "output_type": "error",
     "traceback": [
      "\u001b[0;36m  Cell \u001b[0;32mIn[4], line 4\u001b[0;36m\u001b[0m\n\u001b[0;31m    vowel_count==0:\u001b[0m\n\u001b[0m                  ^\u001b[0m\n\u001b[0;31mSyntaxError\u001b[0m\u001b[0;31m:\u001b[0m invalid syntax\n"
     ]
    }
   ],
   "source": [
    "#5 Counting of vowel in string\n",
    "string=\"I want to become a data scientist\"\n",
    "string_lc=string.lower()  #converting into lowercase\n",
    "vowel_count=0\n",
    "for i in string_lc:\n",
    "    if i==\"a\" or i==\"e\" or i==\"i\" or i==\"o\" or i==\"u\":\n",
    "        vowel_count=vowel_count+1\n",
    "print(vowel_count)\n"
   ]
  },
  {
   "cell_type": "code",
   "execution_count": null,
   "id": "cf1b208a-dfb2-43f1-ac97-25ad96c51029",
   "metadata": {},
   "outputs": [],
   "source": []
  }
 ],
 "metadata": {
  "kernelspec": {
   "display_name": "Python 3 (ipykernel)",
   "language": "python",
   "name": "python3"
  },
  "language_info": {
   "codemirror_mode": {
    "name": "ipython",
    "version": 3
   },
   "file_extension": ".py",
   "mimetype": "text/x-python",
   "name": "python",
   "nbconvert_exporter": "python",
   "pygments_lexer": "ipython3",
   "version": "3.10.8"
  }
 },
 "nbformat": 4,
 "nbformat_minor": 5
}
